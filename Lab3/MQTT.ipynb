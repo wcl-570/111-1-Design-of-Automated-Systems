{
 "cells": [
  {
   "cell_type": "markdown",
   "metadata": {},
   "source": [
    "# 安裝 paho-mqtt"
   ]
  },
  {
   "cell_type": "code",
   "execution_count": null,
   "metadata": {},
   "outputs": [],
   "source": [
    "pip install \"paho-mqtt<2.0.0\""
   ]
  },
  {
   "cell_type": "markdown",
   "metadata": {},
   "source": [
    "# 建立發布者（Publisher）"
   ]
  },
  {
   "cell_type": "code",
   "execution_count": null,
   "metadata": {},
   "outputs": [],
   "source": [
    "import paho.mqtt.client as mqtt\n",
    "import time\n",
    "import json\n",
    "import random\n",
    "import datetime\n",
    "import sys\n",
    "# 資料傳輸函式定義\n",
    "def on_connect(client, userdata, flags, rc):\n",
    "  print(\"Connected with result code\" + str(rc));\n",
    "\n",
    "def on_publish(client, userdata, mid):\n",
    "  print(\"Publish Hui/MQTT/temperature and humidity\");\n",
    "\n",
    "# 客戶設置\n",
    "client = mqtt.Client()\n",
    "client.on_connect = on_connect;\n",
    "client.on_publish = on_publish;\n",
    "# client.connect(\"broker\", port, wait tiime)\n",
    "client.connect(\"broker.hivemq.com\",1883,60)\n",
    "\n",
    "while True:\n",
    "  try:\n",
    "    # 亂數生成溫度數據\n",
    "    dataTem = random.randint(20,30)\n",
    "    # 亂數生成濕度數據\n",
    "    dataHum = random.randint(50,95)\n",
    "    # 整合傳送之資料\n",
    "    payload = {'Temperature' : dataTem , 'Humidity' : dataHum}\n",
    "    # 設定Topic為Hui/MQTT，並發佈\n",
    "    client.publish(\"Hui/Topic2\", json.dumps(payload))\n",
    "    time.sleep(5)\n",
    "  except KeyboardInterrupt:\n",
    "    print(\"EXIT\")\n",
    "    client.disconnect()\n",
    "    sys.exit(0)"
   ]
  },
  {
   "cell_type": "markdown",
   "metadata": {},
   "source": [
    "# 建立訂閱者（Subscriber）"
   ]
  },
  {
   "cell_type": "code",
   "execution_count": null,
   "metadata": {},
   "outputs": [],
   "source": [
    "import paho.mqtt.client as mqtt\n",
    "\n",
    "# 資料傳輸函式定義\n",
    "def on_connect(client, userdata, flags, rc):\n",
    "  print(\"Connected with result code\"+str(rc))\n",
    "  client.subscribe(\"Hui/Topic2\")\n",
    "\n",
    "def on_message(client, userdata, msg):\n",
    "# 顯示從broker訂閱而來的publisher訊息\n",
    "  Payload = (msg.payload.decode('utf-8'))\n",
    "  print(Payload)\n",
    "\n",
    "client = mqtt.Client()\n",
    "client.on_connect = on_connect\n",
    "client.on_message = on_message\n",
    "client.connect(\"broker.hivemq.com\",1883,60)\n",
    "client.loop_forever()"
   ]
  }
 ],
 "metadata": {
  "kernelspec": {
   "display_name": "Python 3",
   "language": "python",
   "name": "python3"
  },
  "language_info": {
   "codemirror_mode": {
    "name": "ipython",
    "version": 3
   },
   "file_extension": ".py",
   "mimetype": "text/x-python",
   "name": "python",
   "nbconvert_exporter": "python",
   "pygments_lexer": "ipython3",
   "version": "3.11.5"
  }
 },
 "nbformat": 4,
 "nbformat_minor": 2
}
